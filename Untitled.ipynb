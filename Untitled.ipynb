{
 "cells": [
  {
   "cell_type": "markdown",
   "id": "d7a7c547-4f66-4a71-96fc-fff422b8cf86",
   "metadata": {},
   "source": [
    "In this notebook, we will explore some of the tools and languages used in the field of data science."
   ]
  },
  {
   "cell_type": "code",
   "execution_count": null,
   "id": "d7740ef0-abbf-4a8e-b7d5-245308e80e46",
   "metadata": {},
   "outputs": [],
   "source": []
  },
  {
   "cell_type": "markdown",
   "id": "e1b9f9b5-261e-4b7a-baa1-cb39d74b247f",
   "metadata": {},
   "source": [
    "## Data Science Languages\n",
    "- Python  \n",
    "- R  \n",
    "- SQL  \n",
    "- Julia  \n",
    "- Scala"
   ]
  },
  {
   "cell_type": "markdown",
   "id": "057747ef-fca0-499c-a29c-b605a284cf4c",
   "metadata": {},
   "source": [
    "# Data Science Tools and Ecosystem"
   ]
  },
  {
   "cell_type": "markdown",
   "id": "38240d51-95dc-4a77-b5a6-4813a8558ed0",
   "metadata": {},
   "source": [
    "## Data Science Tools\n",
    "\n",
    "| Tool           | Category          |\n",
    "|----------------|-------------------|\n",
    "| JupyterLab     | Notebook interface |\n",
    "| RStudio        | IDE                |\n",
    "| Apache Spark   | Big Data processing |\n",
    "| TensorFlow     | Deep Learning      |\n",
    "| Excel          | Spreadsheet Tool   |"
   ]
  },
  {
   "cell_type": "markdown",
   "id": "46a78f68-ea87-4d67-80aa-78456f1a7909",
   "metadata": {},
   "source": [
    "## Arithmetic Expressions in Python\n",
    "Below are examples of arithmetic operations like addition and multiplication."
   ]
  },
  {
   "cell_type": "code",
   "execution_count": null,
   "id": "430ae277-ea88-49fe-bfe1-0a205d8a8ad5",
   "metadata": {},
   "outputs": [],
   "source": [
    "# This expression multiplies and adds numbers\n",
    "(5 * 3) + 2"
   ]
  },
  {
   "cell_type": "code",
   "execution_count": null,
   "id": "847d6ada-1c3d-42eb-bb0e-cce516cf1311",
   "metadata": {},
   "outputs": [],
   "source": [
    "# This will convert 120 minutes to hours\n",
    "minutes = 120\n",
    "hours = minutes / 60\n",
    "hours"
   ]
  },
  {
   "cell_type": "markdown",
   "id": "4e9b5b4a-6613-4f32-ac72-8188d40da69e",
   "metadata": {},
   "source": [
    "## Objectives\n",
    "- List popular languages for Data Science\n",
    "- List commonly used libraries\n",
    "- Demonstrate basic arithmetic operations\n",
    "- Convert minutes to hour"
   ]
  },
  {
   "cell_type": "code",
   "execution_count": null,
   "id": "96bbcd83-1a7c-4784-aadb-2426e733e719",
   "metadata": {},
   "outputs": [],
   "source": [
    "**Author:** David owolabi"
   ]
  }
 ],
 "metadata": {
  "kernelspec": {
   "display_name": "Python [conda env:base] *",
   "language": "python",
   "name": "conda-base-py"
  },
  "language_info": {
   "codemirror_mode": {
    "name": "ipython",
    "version": 3
   },
   "file_extension": ".py",
   "mimetype": "text/x-python",
   "name": "python",
   "nbconvert_exporter": "python",
   "pygments_lexer": "ipython3",
   "version": "3.12.7"
  }
 },
 "nbformat": 4,
 "nbformat_minor": 5
}
