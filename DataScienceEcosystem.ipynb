{
 "cells": [
  {
   "cell_type": "markdown",
   "id": "1de77f3f-838d-4573-8479-1d17c71aada0",
   "metadata": {},
   "source": [
    "# Data Science Tools and Ecosystem"
   ]
  },
  {
   "cell_type": "markdown",
   "id": "e814c076-7994-4824-baf6-609778f54859",
   "metadata": {},
   "source": [
    "# In this notebook, Data Science Tools and Ecosystem are summarized.\n"
   ]
  },
  {
   "cell_type": "markdown",
   "id": "5d1015e0-ca7e-4172-a1f3-fc32d270b072",
   "metadata": {},
   "source": [
    "Some of the popular languages that Data Scientists use are:\n",
    "\n",
    "1. Python  \n",
    "2. R  \n",
    "3. SQL  "
   ]
  },
  {
   "cell_type": "markdown",
   "id": "aa3cfbad-944f-4890-a736-ac1c529d314c",
   "metadata": {},
   "source": [
    "**Objectives:**\n",
    "\n",
    "- List popular languages for Data Science  \n",
    "- Identify commonly used libraries in Data Science  \n",
    "- Describe popular Data Science tools  \n",
    "- Perform basic arithmetic operations in Python  "
   ]
  },
  {
   "cell_type": "markdown",
   "id": "6a46af93-242f-438b-bd5b-239c35afd23d",
   "metadata": {},
   "source": [
    "Some of the commonly used libraries used by Data Scientists include:\n",
    "\n",
    "1. Pandas  \n",
    "2. NumPy  \n",
    "3. Matplotlib  "
   ]
  },
  {
   "cell_type": "markdown",
   "id": "24f43169-592d-49a7-8e57-49984ad52bfc",
   "metadata": {},
   "source": [
    "| Data Science Tools |\n",
    "|--------------------|\n",
    "| Jupyter Notebook   |\n",
    "| RStudio            |\n",
    "| Spyder             |"
   ]
  },
  {
   "cell_type": "markdown",
   "id": "a7d7b14e-e79e-4d4c-af1c-60d6958d9671",
   "metadata": {},
   "source": [
    "### Below are a few examples of evaluating arithmetic expressions in Python."
   ]
  },
  {
   "cell_type": "code",
   "execution_count": 8,
   "id": "8f27983f-2e0d-487c-ac99-a90bdfecd01c",
   "metadata": {},
   "outputs": [
    {
     "data": {
      "text/plain": [
       "17"
      ]
     },
     "execution_count": 8,
     "metadata": {},
     "output_type": "execute_result"
    }
   ],
   "source": [
    "# This is a simple arithmetic expression to multiply then add integers\n",
    "(3 * 4) + 5"
   ]
  },
  {
   "cell_type": "code",
   "execution_count": 9,
   "id": "5a0f4e54-856e-4aca-a8fa-72a79f552410",
   "metadata": {},
   "outputs": [
    {
     "data": {
      "text/plain": [
       "3.3333333333333335"
      ]
     },
     "execution_count": 9,
     "metadata": {},
     "output_type": "execute_result"
    }
   ],
   "source": [
    "# This will convert 200 minutes to hours by dividing by 60\n",
    "200 / 60"
   ]
  },
  {
   "cell_type": "markdown",
   "id": "83e70b1b-b52a-4d25-9966-e2afff32573d",
   "metadata": {},
   "source": [
    "## Author\n",
    "\n",
    "David Owolabi"
   ]
  }
 ],
 "metadata": {
  "kernelspec": {
   "display_name": "Python [conda env:base] *",
   "language": "python",
   "name": "conda-base-py"
  },
  "language_info": {
   "codemirror_mode": {
    "name": "ipython",
    "version": 3
   },
   "file_extension": ".py",
   "mimetype": "text/x-python",
   "name": "python",
   "nbconvert_exporter": "python",
   "pygments_lexer": "ipython3",
   "version": "3.12.7"
  }
 },
 "nbformat": 4,
 "nbformat_minor": 5
}
